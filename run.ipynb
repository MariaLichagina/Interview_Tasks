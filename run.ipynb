{
 "cells": [
  {
   "cell_type": "code",
   "execution_count": 1,
   "metadata": {},
   "outputs": [
    {
     "name": "stdout",
     "output_type": "stream",
     "text": [
      "{\n",
      "    \"book_id\": 456,\n",
      "    \"book_name\": \"Страна багровых туч\",\n",
      "    \"last_reader_id\": 123,\n",
      "    \"last_reader_full name\": \"Ivan Ivanov\",\n",
      "    \"in_library\": false\n",
      "}\n"
     ]
    }
   ],
   "source": [
    "import json\n",
    "import yaml\n",
    "\n",
    "with open(\"books.json\", encoding='utf-8') as f:\n",
    "  books = json.load(f)\n",
    "\n",
    "with open(\"readers.json\", encoding='utf-8') as f:\n",
    "  readers = json.load(f)\n",
    "\n",
    "with open('logbook.yaml', encoding='utf-8') as f:\n",
    "    logbook = yaml.safe_load(f)\n",
    "\n",
    "\n",
    "book_id = int(input(\"Введите  id книги: \"))\n",
    "\n",
    "\n",
    "foundBooks = [book for book in books if book['id'] == book_id]\n",
    "if len(foundBooks) == 0:\n",
    "   print(\"Книга не найдена\")\n",
    "   exit\n",
    "\n",
    "foundBook = foundBooks[0]\n",
    "\n",
    "\n",
    "foundLogbooks = [l for l in logbook if l['book_id'] == foundBook['id']]\n",
    "\n",
    "\n",
    "LogbookEntries = sorted(foundLogbooks, key=lambda object1: object1['taken_at'], reverse=True)\n",
    "lastLogbookEntry = LogbookEntries[0]\n",
    "\n",
    "\n",
    "foundReaders = [reader for reader in readers if int(reader['id']) == int(lastLogbookEntry['reader_id'])]\n",
    "if len(foundReaders) == 0:\n",
    "   print(\"Не удалось найти читателя\")\n",
    "   exit\n",
    "\n",
    "foundReader = foundReaders[0]\n",
    "\n",
    "inLibrary = hasattr(lastLogbookEntry, 'returned_at') \n",
    "\n",
    "answer_object = {\n",
    "    \"book_id\": foundBook['id'],\n",
    "    \"book_name\": foundBook['name'],\n",
    "    \"last_reader_id\": lastLogbookEntry['reader_id'],\n",
    "    \"last_reader_full name\": foundReader['first_name'] + ' ' + foundReader['last_name'],\n",
    "    \"in_library\": inLibrary\n",
    "}\n",
    "\n",
    "json_answer = json.dumps(answer_object, ensure_ascii=False, indent=4)\n",
    "\n",
    "print(json_answer)\n"
   ]
  }
 ],
 "metadata": {
  "kernelspec": {
   "display_name": "Python 3",
   "language": "python",
   "name": "python3"
  },
  "language_info": {
   "codemirror_mode": {
    "name": "ipython",
    "version": 3
   },
   "file_extension": ".py",
   "mimetype": "text/x-python",
   "name": "python",
   "nbconvert_exporter": "python",
   "pygments_lexer": "ipython3",
   "version": "3.11.4"
  }
 },
 "nbformat": 4,
 "nbformat_minor": 2
}
